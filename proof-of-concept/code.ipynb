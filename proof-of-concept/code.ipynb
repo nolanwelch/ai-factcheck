{
  "cells": [
    {
      "cell_type": "markdown",
      "metadata": {
        "colab_type": "text",
        "id": "view-in-github"
      },
      "source": [
        "<a href=\"https://colab.research.google.com/github/nolanwelch/ai-factcheck/blob/main/proof-of-concept/code.ipynb\" target=\"_parent\"><img src=\"https://colab.research.google.com/assets/colab-badge.svg\" alt=\"Open In Colab\"/></a>"
      ]
    },
    {
      "cell_type": "code",
      "execution_count": 1,
      "metadata": {
        "colab": {
          "base_uri": "https://localhost:8080/"
        },
        "id": "R7qDkj4KH4ns",
        "outputId": "05279137-6e04-4b36-a9ab-9592955227d0"
      },
      "outputs": [
        {
          "name": "stdout",
          "output_type": "stream",
          "text": [
            "Requirement already satisfied: python-dotenv in /home/nwelch/projects/ai-factcheck/.venv/lib64/python3.13/site-packages (1.0.1)\n",
            "Requirement already satisfied: openai in /home/nwelch/projects/ai-factcheck/.venv/lib64/python3.13/site-packages (1.59.8)\n",
            "Requirement already satisfied: pydantic in /home/nwelch/projects/ai-factcheck/.venv/lib64/python3.13/site-packages (2.10.5)\n",
            "Requirement already satisfied: anyio<5,>=3.5.0 in /home/nwelch/projects/ai-factcheck/.venv/lib64/python3.13/site-packages (from openai) (4.8.0)\n",
            "Requirement already satisfied: distro<2,>=1.7.0 in /home/nwelch/projects/ai-factcheck/.venv/lib64/python3.13/site-packages (from openai) (1.9.0)\n",
            "Requirement already satisfied: httpx<1,>=0.23.0 in /home/nwelch/projects/ai-factcheck/.venv/lib64/python3.13/site-packages (from openai) (0.28.1)\n",
            "Requirement already satisfied: jiter<1,>=0.4.0 in /home/nwelch/projects/ai-factcheck/.venv/lib64/python3.13/site-packages (from openai) (0.8.2)\n",
            "Requirement already satisfied: sniffio in /home/nwelch/projects/ai-factcheck/.venv/lib64/python3.13/site-packages (from openai) (1.3.1)\n",
            "Requirement already satisfied: tqdm>4 in /home/nwelch/projects/ai-factcheck/.venv/lib64/python3.13/site-packages (from openai) (4.67.1)\n",
            "Requirement already satisfied: typing-extensions<5,>=4.11 in /home/nwelch/projects/ai-factcheck/.venv/lib64/python3.13/site-packages (from openai) (4.12.2)\n",
            "Requirement already satisfied: annotated-types>=0.6.0 in /home/nwelch/projects/ai-factcheck/.venv/lib64/python3.13/site-packages (from pydantic) (0.7.0)\n",
            "Requirement already satisfied: pydantic-core==2.27.2 in /home/nwelch/projects/ai-factcheck/.venv/lib64/python3.13/site-packages (from pydantic) (2.27.2)\n",
            "Requirement already satisfied: idna>=2.8 in /home/nwelch/projects/ai-factcheck/.venv/lib64/python3.13/site-packages (from anyio<5,>=3.5.0->openai) (3.10)\n",
            "Requirement already satisfied: certifi in /home/nwelch/projects/ai-factcheck/.venv/lib64/python3.13/site-packages (from httpx<1,>=0.23.0->openai) (2024.12.14)\n",
            "Requirement already satisfied: httpcore==1.* in /home/nwelch/projects/ai-factcheck/.venv/lib64/python3.13/site-packages (from httpx<1,>=0.23.0->openai) (1.0.7)\n",
            "Requirement already satisfied: h11<0.15,>=0.13 in /home/nwelch/projects/ai-factcheck/.venv/lib64/python3.13/site-packages (from httpcore==1.*->httpx<1,>=0.23.0->openai) (0.14.0)\n",
            "\n",
            "\u001b[1m[\u001b[0m\u001b[34;49mnotice\u001b[0m\u001b[1;39;49m]\u001b[0m\u001b[39;49m A new release of pip is available: \u001b[0m\u001b[31;49m24.3.1\u001b[0m\u001b[39;49m -> \u001b[0m\u001b[32;49m25.0.1\u001b[0m\n",
            "\u001b[1m[\u001b[0m\u001b[34;49mnotice\u001b[0m\u001b[1;39;49m]\u001b[0m\u001b[39;49m To update, run: \u001b[0m\u001b[32;49mpip install --upgrade pip\u001b[0m\n",
            "Note: you may need to restart the kernel to use updated packages.\n"
          ]
        }
      ],
      "source": [
        "%pip install python-dotenv openai pydantic"
      ]
    },
    {
      "cell_type": "code",
      "execution_count": 2,
      "metadata": {
        "id": "Qr3iLrzIHyiV"
      },
      "outputs": [],
      "source": [
        "import sys\n",
        "\n",
        "IN_COLAB = \"google.colab\" in sys.modules\n",
        "\n",
        "if IN_COLAB:\n",
        "  from google.colab import userdata\n",
        "  openai_token = userdata.get(\"OPENAI_API_KEY\")\n",
        "else:\n",
        "  import os\n",
        "  import dotenv\n",
        "  dotenv.load_dotenv()\n",
        "  openai_token = os.environ.get(\"OPENAI_API_KEY\")\n",
        "\n",
        "assert openai_token is not None, \"Must set the OPENAI_API_KEY environment variable\""
      ]
    },
    {
      "cell_type": "code",
      "execution_count": null,
      "metadata": {},
      "outputs": [
        {
          "name": "stdout",
          "output_type": "stream",
          "text": [
            "mapping=KGMapping(entities={'ent_01': 'Barack Obama', 'ent_02': 'Michelle Obama', 'ent_03': 'Presidency of the United States'}, relations={'rel_01': 'spouseOf', 'rel_02': 'formerOfficeHolder'}) graph=KG(root={'ent_01': {'rel_01': ['ent_02'], 'rel_02': ['ent_03']}, 'ent_02': {'rel_01': ['ent_02']}})\n"
          ]
        }
      ],
      "source": [
        "from typing import Dict, List\n",
        "import json\n",
        "from pydantic import BaseModel, model_validator, RootModel\n",
        "\n",
        "class KGMapping(BaseModel):\n",
        "    entities: Dict[str, str]\n",
        "    relations: Dict[str, str]\n",
        "\n",
        "class KG(RootModel[Dict[str, Dict[str, List[str]]]]):\n",
        "    \"\"\"\n",
        "    A true root model: keys are entity‑IDs, values map relation‑IDs to lists of target entity‑IDs.\n",
        "    \"\"\"\n",
        "    def __getitem__(self, ent_id: str) -> Dict[str, List[str]]:\n",
        "        return self.root[ent_id]\n",
        "\n",
        "class KnowledgeGraph(BaseModel):\n",
        "    mapping: KGMapping\n",
        "    graph: KG\n",
        "\n",
        "    @model_validator(mode='after')\n",
        "    def _check_references(self) -> \"KnowledgeGraph\":\n",
        "        mapping = self.mapping\n",
        "        graph_dict = self.graph.root\n",
        "\n",
        "        # 1) every source‑entity in graph must exist\n",
        "        for ent_id, rels in graph_dict.items():\n",
        "            if ent_id not in mapping.entities:\n",
        "                raise ValueError(f\"Unknown entity in graph: {ent_id}\")\n",
        "\n",
        "            # 2) every relation must exist\n",
        "            for rel_id, targets in rels.items():\n",
        "                if rel_id not in mapping.relations:\n",
        "                    raise ValueError(f\"Unknown relation in graph: {rel_id}\")\n",
        "\n",
        "                # 3) every target entity must exist\n",
        "                for tgt in targets:\n",
        "                    if tgt not in mapping.entities:\n",
        "                        raise ValueError(f\"Unknown target entity in graph: {tgt}\")\n",
        "\n",
        "        return self\n",
        "\n",
        "def load_knowledge_graph(filepath: str):\n",
        "    with open(filepath) as f:\n",
        "        data = json.load(f)\n",
        "        return KnowledgeGraph.model_validate(data)\n",
        "\n",
        "kg = load_knowledge_graph(\"kg.json\")"
      ]
    },
    {
      "cell_type": "code",
      "execution_count": 3,
      "metadata": {
        "id": "vRhAG8PWKQyU"
      },
      "outputs": [],
      "source": [
        "from pydantic import BaseModel\n",
        "from enum import Enum\n",
        "\n",
        "class SemanticTriple(BaseModel):\n",
        "  entityA: str\n",
        "  relationship: str\n",
        "  entityB: str\n",
        "\n",
        "class SemanticTripleList(BaseModel):\n",
        "  triples: list[SemanticTriple]\n",
        "\n",
        "class EntailmentRelationship(Enum):\n",
        "  IMPLIES = \"implies\"\n",
        "  CONTRADICTS = \"contradicts\"\n",
        "  NEUTRAL = \"neutral\"\n",
        "\n",
        "class EntailmentResponse(BaseModel):\n",
        "  entailment_relationship: EntailmentRelationship"
      ]
    },
    {
      "cell_type": "code",
      "execution_count": 10,
      "metadata": {
        "id": "san_1NMbM-70"
      },
      "outputs": [],
      "source": [
        "import openai\n",
        "from dataclasses import dataclass\n",
        "import time\n",
        "\n",
        "\n",
        "@dataclass\n",
        "class SemanticTripleExtractor:\n",
        "    client: openai.OpenAI\n",
        "    GPT_MODEL = \"gpt-4o\"\n",
        "    SCHEMA = SemanticTripleList\n",
        "    ERROR_RETRY_SLEEP = 0.001\n",
        "\n",
        "    def get_semantic_triples(self, text: str):\n",
        "        system_prompt = \"\"\"\n",
        "        You are a highly capable natural language processing model tasked with extracting **semantic triples** from text. A semantic triple represents a structured relationship in the form **(subject, predicate, object)**. Your primary goals are to ensure that the extracted triples are:\n",
        "\n",
        "        1. **Parsable**: Use concise, standardized predicates that capture the semantic meaning of the relationship.\n",
        "        2. **Semantic-Rich**: Avoid vague predicates like \"is\" or \"was\" and replace them with more specific, semantically meaningful terms.\n",
        "        3. **Normalized**: Coerce relationships into forms that align with commonly used knowledge graphs and ontologies.\n",
        "\n",
        "        ---\n",
        "\n",
        "        ### Instructions:\n",
        "\n",
        "        1. **Triple Structure**:\n",
        "          - Each triple must be in the format: **(subject, predicate, object)**.\n",
        "          - **Subject**: The entity or concept being described.\n",
        "          - **Predicate**: A semantically meaningful relationship (use standardized terms wherever possible).\n",
        "          - **Object**: The entity or concept associated with the subject via the predicate.\n",
        "\n",
        "        2. **Predicate Coercion**:\n",
        "          - Avoid using generic copular verbs like \"is\" or \"was\" as the predicate. Instead, infer a more meaningful relationship based on the context:\n",
        "            - **Nationality**: Replace \"is/was [nationality]\" with predicates like **hasNationality**.\n",
        "              - Example: \"Alexander the Great was British.\"\n",
        "              - Output: **(Alexander the Great, hasNationality, British)**\n",
        "            - **Role or Occupation**: Replace \"is/was [role]\" with predicates like **hasRole** or **profession**.\n",
        "              - Example: \"Thomas Edison was the inventor of the lightbulb.\"\n",
        "              - Output: **(Thomas Edison, inventorOf, lightbulb)**\n",
        "            - **Properties**: Replace \"is/was [property]\" with predicates like **hasProperty** or **characteristicOf**.\n",
        "              - Example: \"The Eiffel Tower is tall.\"\n",
        "              - Output: **(The Eiffel Tower, hasProperty, tall)**\n",
        "            - **Location**: Replace \"is/was in [location]\" with predicates like **locatedIn**.\n",
        "              - Example: \"The Great Wall of China is in China.\"\n",
        "              - Output: **(The Great Wall of China, locatedIn, China)**\n",
        "            - **Other Actions**: Use action-oriented predicates like **invented**, **discovered**, or **authored**, when the sentence provides such explicit relationships.\n",
        "\n",
        "        3. **Normalization**:\n",
        "          - Use camelCase for predicates to ensure consistency and ease of parsing.\n",
        "          - Avoid overly specific predicates that are difficult to generalize or parse.\n",
        "            - Example: Instead of \"was the first person to discover,\" simplify to **discovered**.\n",
        "\n",
        "        4. **Negated Relationships**:\n",
        "          - For negated relationships, transform the predicate to its positive form.\n",
        "            - Example: \"Alexander the Great was not British.\"\n",
        "            - Output: **(Alexander the Great, hasNationality, British)**\n",
        "          - Add a brief justification for why the negation was ignored.\n",
        "\n",
        "        5. **Context Awareness**:\n",
        "          - Handle implied or indirect relationships by inferring logical triples.\n",
        "          - Example:\n",
        "            - Sentence: \"The capital of France is Paris.\"\n",
        "            - Output: **(France, hasCapital, Paris)**\n",
        "\n",
        "        6. **Output Format**:\n",
        "          - Return triples as plain text, formatted as **(subject, predicate, object)**.\n",
        "          - Each triple must be on a new line.\n",
        "\n",
        "        ---\n",
        "\n",
        "        ### Examples:\n",
        "\n",
        "        #### Example 1:\n",
        "        - **Input**: \"Thomas Edison was the inventor of the lightbulb.\"\n",
        "        - **Output**: **(Thomas Edison, inventorOf, lightbulb)**\n",
        "\n",
        "        #### Example 2:\n",
        "        - **Input**: \"The Eiffel Tower is in Paris.\"\n",
        "        - **Output**: **(The Eiffel Tower, locatedIn, Paris)**\n",
        "\n",
        "        #### Example 3:\n",
        "        - **Input**: \"Marie Curie discovered radium.\"\n",
        "        - **Output**: **(Marie Curie, discovered, radium)**\n",
        "\n",
        "        #### Example 4:\n",
        "        - **Input**: \"Alexander the Great was not British.\"\n",
        "        - **Output**: **(Alexander the Great, hasNationality, British)**\n",
        "\n",
        "        #### Example 5:\n",
        "        - **Input**: \"The capital of France is Paris.\"\n",
        "        - **Output**: **(France, hasCapital, Paris)**\n",
        "\n",
        "        ---\n",
        "\n",
        "        ### Constraints:\n",
        "        - Focus on meaningful predicates that convey the underlying relationship clearly and concisely.\n",
        "        - When in doubt about the semantic intent, prefer general predicates like **hasRelation** or **associatedWith** and provide an explanation.\n",
        "        - Avoid duplicating triples or creating overly granular relationships.\n",
        "\n",
        "        With these adjustments, extract triples that are both semantically precise and consistent with standard knowledge representation frameworks.\"\"\"\n",
        "        return self._request_with_retry(system_prompt, text)\n",
        "\n",
        "    def _request_with_retry(self, system_prompt: str, text: str):\n",
        "        n_retries = 0\n",
        "        while True:\n",
        "            try:\n",
        "                response = (\n",
        "                    self.client.beta.chat.completions.parse(\n",
        "                        model=self.GPT_MODEL,\n",
        "                        response_format=self.SCHEMA,\n",
        "                        messages=[\n",
        "                            {\"role\": \"system\", \"content\": system_prompt},\n",
        "                            {\"role\": \"user\", \"content\": text},\n",
        "                        ],\n",
        "                    )\n",
        "                    .choices[0]\n",
        "                    .message.parsed\n",
        "                )\n",
        "                break\n",
        "\n",
        "            except openai.RateLimitError as err:\n",
        "                n_retries += 1\n",
        "                print(err)\n",
        "                print(\"Exceeded rate limit\")\n",
        "                print(f\"Sleeping before retry (done {n_retries} time(s))\")\n",
        "                time.sleep(self.ERROR_RETRY_SLEEP)\n",
        "\n",
        "            except Exception as err:\n",
        "                n_retries += 1\n",
        "                print(f\"Unexpected error ({err})\")\n",
        "                print(f\"Sleeping before retry (done {n_retries} time(s))\")\n",
        "                time.sleep(self.ERROR_RETRY_SLEEP)\n",
        "\n",
        "        if response is None:\n",
        "            raise ValueError(\"Got null response\")\n",
        "\n",
        "        return response\n",
        "\n",
        "\n",
        "@dataclass\n",
        "class EntailmentClassifier:\n",
        "    client: openai.OpenAI\n",
        "    GPT_MODEL = \"gpt-4o\"\n",
        "    SCHEMA = EntailmentResponse\n",
        "    ERROR_RETRY_SLEEP = 0.001\n",
        "\n",
        "    def get_entailment_type(self, sentence: str, statement: str):\n",
        "        system_prompt = \"\"\"\n",
        "    You are a highly capable natural language processing model tasked with evaluating the relationship between a given **sentence** and an **assertion**. Your objective is to determine whether the sentence:\n",
        "\n",
        "    1. **Agrees with (Implies)** the assertion: The sentence provides evidence that the assertion is true.\n",
        "    2. **Contradicts** the assertion: The sentence provides evidence that the assertion is false.\n",
        "    3. **Is Neutral** towards the assertion: The sentence neither supports nor refutes the assertion, or it lacks sufficient information to establish a clear relationship.\n",
        "\n",
        "    ### Instructions:\n",
        "\n",
        "    1. **Input Format**:\n",
        "      - You will receive two inputs:\n",
        "        - **Sentence**: A statement or set of statements that describe an event, opinion, or fact.\n",
        "        - **Assertion**: A single statement whose relationship to the sentence you must evaluate.\n",
        "\n",
        "    2. **Output Format**:\n",
        "      - Your response should contain one of the following three terms:\n",
        "        - **\"Implies\"**: If the sentence provides direct or strong evidence supporting the truth of the assertion.\n",
        "        - **\"Contradicts\"**: If the sentence provides direct or strong evidence opposing the truth of the assertion.\n",
        "        - **\"Neutral\"**: If the sentence does not provide sufficient evidence to determine the truth or falsity of the assertion.\n",
        "\n",
        "      - Additionally, provide a brief justification explaining your reasoning.\n",
        "\n",
        "    3. **Evaluation Criteria**:\n",
        "      - **Agreement (Implies)**:\n",
        "        - Identify whether the sentence affirms or supports the assertion.\n",
        "        - Example:\n",
        "          - Sentence: \"I like dogs. I would like to have one some day.\"\n",
        "          - Assertion: \"I like dogs.\"\n",
        "          - Output: **\"Implies\"** (The sentence explicitly states liking dogs.)\n",
        "\n",
        "      - **Contradiction**:\n",
        "        - Determine if the sentence negates or opposes the assertion.\n",
        "        - Example:\n",
        "          - Sentence: \"I don't like dogs. They make me nervous.\"\n",
        "          - Assertion: \"I like dogs.\"\n",
        "          - Output: **\"Contradicts\"** (The sentence explicitly denies liking dogs.)\n",
        "\n",
        "      - **Neutrality**:\n",
        "        - Assess whether the sentence is unrelated to the assertion or lacks sufficient evidence to establish a relationship.\n",
        "        - Example:\n",
        "          - Sentence: \"I like dogs. I would like to have one some day.\"\n",
        "          - Assertion: \"I like cats.\"\n",
        "          - Output: **\"Neutral\"** (The sentence does not provide information about cats.)\n",
        "\n",
        "    4. **Context Awareness**:\n",
        "      - Consider the context and nuances of both the sentence and assertion.\n",
        "      - Handle implied meanings, indirect statements, and logical implications.\n",
        "      - Example:\n",
        "        - Sentence: \"I love all kinds of animals, especially dogs.\"\n",
        "        - Assertion: \"I like dogs.\"\n",
        "        - Output: **\"Implies\"** (The statement includes liking dogs as part of loving animals.)\n",
        "\n",
        "    5. **Ambiguity**:\n",
        "      - If the relationship between the sentence and assertion is ambiguous, select \"Neutral\" and explain why the connection is unclear or insufficient.\n",
        "\n",
        "    6. **Complex Sentences**:\n",
        "      - For compound or complex sentences, focus on the part(s) relevant to the assertion.\n",
        "      - Example:\n",
        "        - Sentence: \"I like dogs, but I don't like walking them in the rain.\"\n",
        "        - Assertion: \"I like dogs.\"\n",
        "        - Output: **\"Implies\"** (The sentence explicitly states liking dogs, even if it mentions a dislike of walking them in certain conditions.)\n",
        "\n",
        "    7. **Negations and Opposites**:\n",
        "      - Pay special attention to negations, double negatives, and antonyms.\n",
        "      - Example:\n",
        "        - Sentence: \"I would never say I dislike dogs.\"\n",
        "        - Assertion: \"I like dogs.\"\n",
        "        - Output: **\"Implies\"** (The sentence indirectly supports the assertion by rejecting the opposite.)\n",
        "\n",
        "    ### Examples:\n",
        "\n",
        "    #### Example 1:\n",
        "    - **Sentence**: \"I absolutely love spending time with dogs.\"\n",
        "    - **Assertion**: \"I like dogs.\"\n",
        "    - **Output**: **\"Implies\"** (The sentence strongly supports the assertion.)\n",
        "\n",
        "    #### Example 2:\n",
        "    - **Sentence**: \"I prefer cats over dogs.\"\n",
        "    - **Assertion**: \"I like dogs.\"\n",
        "    - **Output**: **\"Neutral\"** (The sentence does not confirm or deny liking dogs, only that cats are preferred.)\n",
        "\n",
        "    #### Example 3:\n",
        "    - **Sentence**: \"I don't like dogs because they bark too much.\"\n",
        "    - **Assertion**: \"I like dogs.\"\n",
        "    - **Output**: **\"Contradicts\"** (The sentence directly denies liking dogs.)\n",
        "\n",
        "    #### Example 4:\n",
        "    - **Sentence**: \"I think dogs are cute, but I wouldn't want one as a pet.\"\n",
        "    - **Assertion**: \"I like dogs.\"\n",
        "    - **Output**: **\"Neutral\"** (The sentence expresses admiration for dogs but does not explicitly indicate liking them.)\n",
        "\n",
        "    ### Constraints:\n",
        "    - Focus on the logical relationship between the sentence and the assertion, rather than external knowledge.\n",
        "    - Avoid over-interpreting vague or ambiguous statements; err on the side of neutrality when in doubt.\n",
        "\n",
        "    With these instructions, evaluate each input pair thoroughly and consistently.\"\"\"\n",
        "        text = f\"Sentence: \\\"{sentence}\\\"\\nAssertion: \\\"{statement}\\\"\"\n",
        "        return self._request_with_retry(system_prompt, text)\n",
        "\n",
        "    def _request_with_retry(self, system_prompt: str, text: str):\n",
        "        n_retries = 0\n",
        "        while True:\n",
        "            try:\n",
        "                response = (\n",
        "                    self.client.beta.chat.completions.parse(\n",
        "                        model=self.GPT_MODEL,\n",
        "                        response_format=self.SCHEMA,\n",
        "                        messages=[\n",
        "                            {\"role\": \"system\", \"content\": system_prompt},\n",
        "                            {\"role\": \"user\", \"content\": text},\n",
        "                        ],\n",
        "                    )\n",
        "                    .choices[0]\n",
        "                    .message.parsed\n",
        "                )\n",
        "                break\n",
        "\n",
        "            except openai.RateLimitError as err:\n",
        "                n_retries += 1\n",
        "                print(err)\n",
        "                print(\"Exceeded rate limit\")\n",
        "                print(f\"Sleeping before retry (done {n_retries} time(s))\")\n",
        "                time.sleep(self.ERROR_RETRY_SLEEP)\n",
        "\n",
        "            except Exception as err:\n",
        "                n_retries += 1\n",
        "                print(f\"Unexpected error ({err})\")\n",
        "                print(f\"Sleeping before retry (done {n_retries} time(s))\")\n",
        "                time.sleep(self.ERROR_RETRY_SLEEP)\n",
        "\n",
        "        if response is None:\n",
        "            raise ValueError(\"Got null response\")\n",
        "\n",
        "        return response\n"
      ]
    },
    {
      "cell_type": "code",
      "execution_count": 11,
      "metadata": {
        "id": "sVfz7tRsWxeM"
      },
      "outputs": [],
      "source": [
        "client = openai.OpenAI(api_key=openai_token)\n",
        "\n",
        "semantic_extractor = SemanticTripleExtractor(client)\n",
        "entailment_classifier = EntailmentClassifier(client)"
      ]
    },
    {
      "cell_type": "code",
      "execution_count": 12,
      "metadata": {
        "colab": {
          "base_uri": "https://localhost:8080/"
        },
        "id": "jztyxFqaXVYb",
        "outputId": "2a712801-a176-4a06-e7b8-aaf5f2db6cb5"
      },
      "outputs": [
        {
          "data": {
            "text/plain": [
              "SemanticTripleList(triples=[SemanticTriple(entityA='Thomas Edison', relationship='inventorOf', entityB='lightbulb')])"
            ]
          },
          "execution_count": 12,
          "metadata": {},
          "output_type": "execute_result"
        }
      ],
      "source": [
        "sentence = \"Thomas Edison was the inventor of the lightbulb.\"\n",
        "\n",
        "semantic_extractor.get_semantic_triples(sentence)"
      ]
    },
    {
      "cell_type": "code",
      "execution_count": 13,
      "metadata": {
        "colab": {
          "base_uri": "https://localhost:8080/"
        },
        "id": "CeIxuxakY4ox",
        "outputId": "9e05d13c-f395-4766-dd8a-52d2f2408b8a"
      },
      "outputs": [
        {
          "data": {
            "text/plain": [
              "EntailmentResponse(entailment_relationship=<EntailmentRelationship.IMPLIES: 'implies'>)"
            ]
          },
          "execution_count": 13,
          "metadata": {},
          "output_type": "execute_result"
        }
      ],
      "source": [
        "true_statement = \"The lightbulb has been invented.\"\n",
        "entailment_classifier.get_entailment_type(sentence, true_statement)"
      ]
    },
    {
      "cell_type": "code",
      "execution_count": 14,
      "metadata": {
        "colab": {
          "base_uri": "https://localhost:8080/"
        },
        "id": "tg5MuahoZYLP",
        "outputId": "776f05e9-3581-4680-e5e9-88bd4e9e2106"
      },
      "outputs": [
        {
          "data": {
            "text/plain": [
              "EntailmentResponse(entailment_relationship=<EntailmentRelationship.CONTRADICTS: 'contradicts'>)"
            ]
          },
          "execution_count": 14,
          "metadata": {},
          "output_type": "execute_result"
        }
      ],
      "source": [
        "false_statement = \"Harry Truman invented the lightbulb.\"\n",
        "entailment_classifier.get_entailment_type(sentence, false_statement)"
      ]
    },
    {
      "cell_type": "code",
      "execution_count": 15,
      "metadata": {
        "colab": {
          "base_uri": "https://localhost:8080/"
        },
        "id": "0b5M3RX-ZY4P",
        "outputId": "046a1ff7-1857-4ccd-f141-4d07738d9807"
      },
      "outputs": [
        {
          "data": {
            "text/plain": [
              "EntailmentResponse(entailment_relationship=<EntailmentRelationship.NEUTRAL: 'neutral'>)"
            ]
          },
          "execution_count": 15,
          "metadata": {},
          "output_type": "execute_result"
        }
      ],
      "source": [
        "irrelevant_statement = \"I had a sandwich for lunch.\"\n",
        "entailment_classifier.get_entailment_type(sentence, irrelevant_statement)"
      ]
    },
    {
      "cell_type": "code",
      "execution_count": 18,
      "metadata": {
        "colab": {
          "base_uri": "https://localhost:8080/"
        },
        "id": "Zzi_ZovybXpk",
        "outputId": "5b822fba-255e-4591-af67-89f4954f71e0"
      },
      "outputs": [
        {
          "name": "stdout",
          "output_type": "stream",
          "text": [
            "Albert Einstein was a physicist who developed the theory of relativity.\n",
            "Entity \"Albert Einstein\" has relationship \"hasRole\" with entity \"physicist\". entailment_relationship=<EntailmentRelationship.IMPLIES: 'implies'>\n",
            "Entity \"Albert Einstein\" has relationship \"developed\" with entity \"theory of relativity\". entailment_relationship=<EntailmentRelationship.IMPLIES: 'implies'>\n",
            "Marie Curie did not discover penicillin, but she discovered radium.\n",
            "Entity \"Marie Curie\" has relationship \"discovered\" with entity \"radium\". entailment_relationship=<EntailmentRelationship.IMPLIES: 'implies'>\n",
            "The Great Wall of China is not visible from space with the naked eye.\n",
            "Entity \"Great Wall of China\" has relationship \"visibilityFromSpace\" with entity \"notVisible\". entailment_relationship=<EntailmentRelationship.IMPLIES: 'implies'>\n",
            "Entity \"Great Wall of China\" has relationship \"locatedIn\" with entity \"China\". entailment_relationship=<EntailmentRelationship.NEUTRAL: 'neutral'>\n",
            "Isaac Newton was not American; he was a British mathematician and physicist.\n",
            "Entity \"Isaac Newton\" has relationship \"hasNationality\" with entity \"British\". entailment_relationship=<EntailmentRelationship.IMPLIES: 'implies'>\n",
            "Entity \"Isaac Newton\" has relationship \"hasRole\" with entity \"mathematician\". entailment_relationship=<EntailmentRelationship.IMPLIES: 'implies'>\n",
            "Entity \"Isaac Newton\" has relationship \"hasRole\" with entity \"physicist\". entailment_relationship=<EntailmentRelationship.IMPLIES: 'implies'>\n",
            "Barack Obama was born in Hawaii and served as the 44th President of the United States.\n",
            "Entity \"Barack Obama\" has relationship \"birthPlace\" with entity \"Hawaii\". entailment_relationship=<EntailmentRelationship.IMPLIES: 'implies'>\n",
            "Entity \"Barack Obama\" has relationship \"servedAs\" with entity \"44th President of the United States\". entailment_relationship=<EntailmentRelationship.IMPLIES: 'implies'>\n",
            "J.K. Rowling wrote the Harry Potter series, which became a global phenomenon.\n",
            "Entity \"J.K. Rowling\" has relationship \"authored\" with entity \"Harry Potter series\". entailment_relationship=<EntailmentRelationship.IMPLIES: 'implies'>\n",
            "Entity \"Harry Potter series\" has relationship \"became\" with entity \"global phenomenon\". entailment_relationship=<EntailmentRelationship.IMPLIES: 'implies'>\n",
            "The Amazon rainforest is in South America and plays a crucial role in Earth's oxygen cycle.\n",
            "Entity \"Amazon rainforest\" has relationship \"locatedIn\" with entity \"South America\". entailment_relationship=<EntailmentRelationship.IMPLIES: 'implies'>\n",
            "Entity \"Amazon rainforest\" has relationship \"contributesTo\" with entity \"Earth's oxygen cycle\". entailment_relationship=<EntailmentRelationship.IMPLIES: 'implies'>\n",
            "Neil Armstrong, the first person to walk on the moon, was an astronaut and test pilot.\n",
            "Entity \"Neil Armstrong\" has relationship \"firstToWalkOn\" with entity \"moon\". entailment_relationship=<EntailmentRelationship.IMPLIES: 'implies'>\n",
            "Entity \"Neil Armstrong\" has relationship \"hasRole\" with entity \"astronaut\". entailment_relationship=<EntailmentRelationship.IMPLIES: 'implies'>\n",
            "Entity \"Neil Armstrong\" has relationship \"hasRole\" with entity \"test pilot\". entailment_relationship=<EntailmentRelationship.IMPLIES: 'implies'>\n",
            "The Mona Lisa, painted by Leonardo da Vinci, is displayed in the Louvre in Paris.\n",
            "Entity \"Mona Lisa\" has relationship \"paintedBy\" with entity \"Leonardo da Vinci\". entailment_relationship=<EntailmentRelationship.IMPLIES: 'implies'>\n",
            "Entity \"Mona Lisa\" has relationship \"displayedIn\" with entity \"Louvre\". entailment_relationship=<EntailmentRelationship.IMPLIES: 'implies'>\n",
            "Entity \"Louvre\" has relationship \"locatedIn\" with entity \"Paris\". entailment_relationship=<EntailmentRelationship.IMPLIES: 'implies'>\n",
            "Mount Everest, the highest mountain in the world, is part of the Himalayas and lies in Nepal.\n",
            "Entity \"Mount Everest\" has relationship \"isPartOf\" with entity \"Himalayas\". entailment_relationship=<EntailmentRelationship.IMPLIES: 'implies'>\n",
            "Entity \"Mount Everest\" has relationship \"locatedIn\" with entity \"Nepal\". entailment_relationship=<EntailmentRelationship.IMPLIES: 'implies'>\n",
            "Entity \"Mount Everest\" has relationship \"hasProperty\" with entity \"highestMountainInTheWorld\". entailment_relationship=<EntailmentRelationship.IMPLIES: 'implies'>\n"
          ]
        }
      ],
      "source": [
        "sentences = [\n",
        "    \"Albert Einstein was a physicist who developed the theory of relativity.\",\n",
        "    \"Marie Curie did not discover penicillin, but she discovered radium.\",\n",
        "    \"The Great Wall of China is not visible from space with the naked eye.\",\n",
        "    \"Isaac Newton was not American; he was a British mathematician and physicist.\",\n",
        "    \"Barack Obama was born in Hawaii and served as the 44th President of the United States.\",\n",
        "    \"J.K. Rowling wrote the Harry Potter series, which became a global phenomenon.\",\n",
        "    \"The Amazon rainforest is in South America and plays a crucial role in Earth's oxygen cycle.\",\n",
        "    \"Neil Armstrong, the first person to walk on the moon, was an astronaut and test pilot.\",\n",
        "    \"The Mona Lisa, painted by Leonardo da Vinci, is displayed in the Louvre in Paris.\",\n",
        "    \"Mount Everest, the highest mountain in the world, is part of the Himalayas and lies in Nepal.\"\n",
        "]\n",
        "\n",
        "for sentence in sentences:\n",
        "  print(sentence)\n",
        "  semantic_triples = semantic_extractor.get_semantic_triples(sentence).triples\n",
        "  for triple in semantic_triples:\n",
        "    statement = f\"Entity \\\"{triple.entityA}\\\" has relationship \\\"{triple.relationship}\\\" with entity \\\"{triple.entityB}\\\".\"\n",
        "    entail_type = entailment_classifier.get_entailment_type(sentence, statement)\n",
        "    print(statement, entail_type)"
      ]
    }
  ],
  "metadata": {
    "colab": {
      "include_colab_link": true,
      "provenance": []
    },
    "kernelspec": {
      "display_name": ".venv",
      "language": "python",
      "name": "python3"
    },
    "language_info": {
      "codemirror_mode": {
        "name": "ipython",
        "version": 3
      },
      "file_extension": ".py",
      "mimetype": "text/x-python",
      "name": "python",
      "nbconvert_exporter": "python",
      "pygments_lexer": "ipython3",
      "version": "3.13.2"
    }
  },
  "nbformat": 4,
  "nbformat_minor": 0
}
