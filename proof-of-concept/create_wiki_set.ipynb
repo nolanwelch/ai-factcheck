{
 "cells": [
  {
   "cell_type": "code",
   "execution_count": 1,
   "metadata": {},
   "outputs": [
    {
     "name": "stdout",
     "output_type": "stream",
     "text": [
      "Requirement already satisfied: datasets in /Users/rohankashyap/opt/anaconda3/envs/.venv/lib/python3.13/site-packages (3.5.0)\n",
      "Requirement already satisfied: ipywidgets in /Users/rohankashyap/opt/anaconda3/envs/.venv/lib/python3.13/site-packages (8.1.6)\n",
      "Requirement already satisfied: filelock in /Users/rohankashyap/opt/anaconda3/envs/.venv/lib/python3.13/site-packages (from datasets) (3.18.0)\n",
      "Requirement already satisfied: numpy>=1.17 in /Users/rohankashyap/opt/anaconda3/envs/.venv/lib/python3.13/site-packages (from datasets) (2.1.2)\n",
      "Requirement already satisfied: pyarrow>=15.0.0 in /Users/rohankashyap/opt/anaconda3/envs/.venv/lib/python3.13/site-packages (from datasets) (19.0.1)\n",
      "Requirement already satisfied: dill<0.3.9,>=0.3.0 in /Users/rohankashyap/opt/anaconda3/envs/.venv/lib/python3.13/site-packages (from datasets) (0.3.8)\n",
      "Requirement already satisfied: pandas in /Users/rohankashyap/opt/anaconda3/envs/.venv/lib/python3.13/site-packages (from datasets) (2.2.3)\n",
      "Requirement already satisfied: requests>=2.32.2 in /Users/rohankashyap/opt/anaconda3/envs/.venv/lib/python3.13/site-packages (from datasets) (2.32.3)\n",
      "Requirement already satisfied: tqdm>=4.66.3 in /Users/rohankashyap/opt/anaconda3/envs/.venv/lib/python3.13/site-packages (from datasets) (4.67.1)\n",
      "Requirement already satisfied: xxhash in /Users/rohankashyap/opt/anaconda3/envs/.venv/lib/python3.13/site-packages (from datasets) (3.5.0)\n",
      "Requirement already satisfied: multiprocess<0.70.17 in /Users/rohankashyap/opt/anaconda3/envs/.venv/lib/python3.13/site-packages (from datasets) (0.70.16)\n",
      "Requirement already satisfied: fsspec<=2024.12.0,>=2023.1.0 in /Users/rohankashyap/opt/anaconda3/envs/.venv/lib/python3.13/site-packages (from fsspec[http]<=2024.12.0,>=2023.1.0->datasets) (2024.12.0)\n",
      "Requirement already satisfied: aiohttp in /Users/rohankashyap/opt/anaconda3/envs/.venv/lib/python3.13/site-packages (from datasets) (3.11.18)\n",
      "Requirement already satisfied: huggingface-hub>=0.24.0 in /Users/rohankashyap/opt/anaconda3/envs/.venv/lib/python3.13/site-packages (from datasets) (0.30.2)\n",
      "Requirement already satisfied: packaging in /Users/rohankashyap/opt/anaconda3/envs/.venv/lib/python3.1/site-packages (from datasets) (25.0)\n",
      "Requirement already satisfied: pyyaml>=5.1 in /Users/rohankashyap/opt/anaconda3/envs/.venv/lib/python3.13/site-packages (from datasets) (6.0.2)\n",
      "Requirement already satisfied: comm>=0.1.3 in /Users/rohankashyap/opt/anaconda3/envs/.venv/lib/python3.1/site-packages (from ipywidgets) (0.2.2)\n",
      "Requirement already satisfied: ipython>=6.1.0 in /Users/rohankashyap/opt/anaconda3/envs/.venv/lib/python3.1/site-packages (from ipywidgets) (9.1.0)\n",
      "Requirement already satisfied: traitlets>=4.3.1 in /Users/rohankashyap/opt/anaconda3/envs/.venv/lib/python3.1/site-packages (from ipywidgets) (5.14.3)\n",
      "Requirement already satisfied: widgetsnbextension~=4.0.14 in /Users/rohankashyap/opt/anaconda3/envs/.venv/lib/python3.13/site-packages (from ipywidgets) (4.0.14)\n",
      "Requirement already satisfied: jupyterlab_widgets~=3.0.14 in /Users/rohankashyap/opt/anaconda3/envs/.venv/lib/python3.13/site-packages (from ipywidgets) (3.0.14)\n",
      "Requirement already satisfied: aiohappyeyeballs>=2.3.0 in /Users/rohankashyap/opt/anaconda3/envs/.venv/lib/python3.13/site-packages (from aiohttp->datasets) (2.6.1)\n",
      "Requirement already satisfied: aiosignal>=1.1.2 in /Users/rohankashyap/opt/anaconda3/envs/.venv/lib/python3.13/site-packages (from aiohttp->datasets) (1.3.2)\n",
      "Requirement already satisfied: attrs>=17.3.0 in /Users/rohankashyap/opt/anaconda3/envs/.venv/lib/python3.13/site-packages (from aiohttp->datasets) (25.3.0)\n",
      "Requirement already satisfied: frozenlist>=1.1.1 in /Users/rohankashyap/opt/anaconda3/envs/.venv/lib/python3.13/site-packages (from aiohttp->datasets) (1.6.0)\n",
      "Requirement already satisfied: multidict<7.0,>=4.5 in /Users/rohankashyap/opt/anaconda3/envs/.venv/lib/python3.13/site-packages (from aiohttp->datasets) (6.4.3)\n",
      "Requirement already satisfied: propcache>=0.2.0 in /Users/rohankashyap/opt/anaconda3/envs/.venv/lib/python3.13/site-packages (from aiohttp->datasets) (0.3.1)\n",
      "Requirement already satisfied: yarl<2.0,>=1.17.0 in /Users/rohankashyap/opt/anaconda3/envs/.venv/lib/python3.13/site-packages (from aiohttp->datasets) (1.20.0)\n",
      "Requirement already satisfied: typing-extensions>=3.7.4.3 in /Users/rohankashyap/opt/anaconda3/envs/.venv/lib/python3.13/site-packages (from huggingface-hub>=0.24.0->datasets) (4.12.2)\n",
      "Requirement already satisfied: decorator in /Users/rohankashyap/opt/anaconda3/envs/.venv/lib/python3.1/site-packages (from ipython>=6.1.0->ipywidgets) (5.2.1)\n",
      "Requirement already satisfied: ipython-pygments-lexers in /Users/rohankashyap/opt/anaconda3/envs/.venv/lib/python3.1/site-packages (from ipython>=6.1.0->ipywidgets) (1.1.1)\n",
      "Requirement already satisfied: jedi>=0.16 in /Users/rohankashyap/opt/anaconda3/envs/.venv/lib/python3.1/site-packages (from ipython>=6.1.0->ipywidgets) (0.19.2)\n",
      "Requirement already satisfied: matplotlib-inline in /Users/rohankashyap/opt/anaconda3/envs/.venv/lib/python3.1/site-packages (from ipython>=6.1.0->ipywidgets) (0.1.7)\n",
      "Requirement already satisfied: pexpect>4.3 in /Users/rohankashyap/opt/anaconda3/envs/.venv/lib/python3.1/site-packages (from ipython>=6.1.0->ipywidgets) (4.9.0)\n",
      "Requirement already satisfied: prompt_toolkit<3.1.0,>=3.0.41 in /Users/rohankashyap/opt/anaconda3/envs/.venv/lib/python3.1/site-packages (from ipython>=6.1.0->ipywidgets) (3.0.51)\n",
      "Requirement already satisfied: pygments>=2.4.0 in /Users/rohankashyap/opt/anaconda3/envs/.venv/lib/python3.13/site-packages (from ipython>=6.1.0->ipywidgets) (2.18.0)\n",
      "Requirement already satisfied: stack_data in /Users/rohankashyap/opt/anaconda3/envs/.venv/lib/python3.1/site-packages (from ipython>=6.1.0->ipywidgets) (0.6.3)\n",
      "Requirement already satisfied: charset-normalizer<4,>=2 in /Users/rohankashyap/opt/anaconda3/envs/.venv/lib/python3.13/site-packages (from requests>=2.32.2->datasets) (3.4.0)\n",
      "Requirement already satisfied: idna<4,>=2.5 in /Users/rohankashyap/opt/anaconda3/envs/.venv/lib/python3.13/site-packages (from requests>=2.32.2->datasets) (3.10)\n",
      "Requirement already satisfied: urllib3<3,>=1.21.1 in /Users/rohankashyap/opt/anaconda3/envs/.venv/lib/python3.13/site-packages (from requests>=2.32.2->datasets) (2.2.3)\n",
      "Requirement already satisfied: certifi>=2017.4.17 in /Users/rohankashyap/opt/anaconda3/envs/.venv/lib/python3.13/site-packages (from requests>=2.32.2->datasets) (2024.8.30)\n",
      "Requirement already satisfied: python-dateutil>=2.8.2 in /Users/rohankashyap/opt/anaconda3/envs/.venv/lib/python3.13/site-packages (from pandas->datasets) (2.9.0.post0)\n",
      "Requirement already satisfied: pytz>=2020.1 in /Users/rohankashyap/opt/anaconda3/envs/.venv/lib/python3.13/site-packages (from pandas->datasets) (2024.2)\n",
      "Requirement already satisfied: tzdata>=2022.7 in /Users/rohankashyap/opt/anaconda3/envs/.venv/lib/python3.13/site-packages (from pandas->datasets) (2024.2)\n",
      "Requirement already satisfied: parso<0.9.0,>=0.8.4 in /Users/rohankashyap/opt/anaconda3/envs/.venv/lib/python3.1/site-packages (from jedi>=0.16->ipython>=6.1.0->ipywidgets) (0.8.4)\n",
      "Requirement already satisfied: ptyprocess>=0.5 in /Users/rohankashyap/opt/anaconda3/envs/.venv/lib/python3.1/site-packages (from pexpect>4.3->ipython>=6.1.0->ipywidgets) (0.7.0)\n",
      "Requirement already satisfied: wcwidth in /Users/rohankashyap/opt/anaconda3/envs/.venv/lib/python3.1/site-packages (from prompt_toolkit<3.1.0,>=3.0.41->ipython>=6.1.0->ipywidgets) (0.2.13)\n",
      "Requirement already satisfied: six>=1.5 in /Users/rohankashyap/opt/anaconda3/envs/.venv/lib/python3.13/site-packages (from python-dateutil>=2.8.2->pandas->datasets) (1.16.0)\n",
      "Requirement already satisfied: executing>=1.2.0 in /Users/rohankashyap/opt/anaconda3/envs/.venv/lib/python3.1/site-packages (from stack_data->ipython>=6.1.0->ipywidgets) (2.1.0)\n",
      "Requirement already satisfied: asttokens>=2.1.0 in /Users/rohankashyap/opt/anaconda3/envs/.venv/lib/python3.1/site-packages (from stack_data->ipython>=6.1.0->ipywidgets) (3.0.0)\n",
      "Requirement already satisfied: pure_eval in /Users/rohankashyap/opt/anaconda3/envs/.venv/lib/python3.1/site-packages (from stack_data->ipython>=6.1.0->ipywidgets) (0.2.3)\n",
      "Note: you may need to restart the kernel to use updated packages.\n"
     ]
    }
   ],
   "source": [
    "%pip install datasets ipywidgets"
   ]
  },
  {
   "cell_type": "code",
   "execution_count": 2,
   "metadata": {},
   "outputs": [],
   "source": [
    "from datasets import load_dataset\n",
    "fever = load_dataset('fever', 'v1.0')"
   ]
  },
  {
   "cell_type": "code",
   "execution_count": 8,
   "metadata": {},
   "outputs": [],
   "source": [
    "unique_wiki_urls = set()\n",
    "for x in fever['paper_dev'].select_columns(['evidence_wiki_url']):\n",
    "    if (x['evidence_wiki_url'] != ''): unique_wiki_urls.add(x['evidence_wiki_url'])"
   ]
  },
  {
   "cell_type": "code",
   "execution_count": 13,
   "metadata": {},
   "outputs": [],
   "source": [
    "unique_wiki_urls = {\n",
    "    url.replace(\"-LRB-\", \"(\").replace(\"-RRB-\", \")\")\n",
    "    for url in unique_wiki_urls\n",
    "}"
   ]
  },
  {
   "cell_type": "code",
   "execution_count": 14,
   "metadata": {},
   "outputs": [],
   "source": [
    "with open(\"unique_wiki_urls.txt\",\"w\") as file:\n",
    "    for url in unique_wiki_urls:\n",
    "        file.write(url + '\\n')"
   ]
  }
 ],
 "metadata": {
  "kernelspec": {
   "display_name": ".venv",
   "language": "python",
   "name": "python3"
  },
  "language_info": {
   "codemirror_mode": {
    "name": "ipython",
    "version": 3
   },
   "file_extension": ".py",
   "mimetype": "text/x-python",
   "name": "python",
   "nbconvert_exporter": "python",
   "pygments_lexer": "ipython3",
   "version": "3.13.0"
  }
 },
 "nbformat": 4,
 "nbformat_minor": 2
}
